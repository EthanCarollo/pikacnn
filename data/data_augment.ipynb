{
 "cells": [
  {
   "cell_type": "markdown",
   "id": "2a50e6e0-a330-47a0-95ae-73df89d5dc64",
   "metadata": {},
   "source": [
    "# 1 - Clean images & augment them"
   ]
  },
  {
   "cell_type": "code",
   "execution_count": null,
   "id": "1d52bfe0-daab-4188-8c06-c43f6822a797",
   "metadata": {},
   "outputs": [],
   "source": [
    "import os\n",
    "from PIL import Image\n",
    "import imgaug.augmenters as iaa\n",
    "import numpy as np\n",
    "\n",
    "source_directory = './pokemon'\n",
    "target_directory = './pokemon-augmented-clean'\n",
    "\n",
    "def convert_images_to_jpeg(source_dir, target_dir):\n",
    "    if not os.path.exists(target_dir):\n",
    "        os.makedirs(target_dir)\n",
    "\n",
    "    for root, dirs, files in os.walk(source_dir):\n",
    "        for file in files:\n",
    "            if file.lower().endswith(('png', 'jpg', 'jpeg', 'bmp', 'gif', 'tiff')):\n",
    "                file_path = os.path.join(root, file)\n",
    "                with Image.open(file_path) as img:\n",
    "                    img = img.convert('RGB')\n",
    "                    relative_path = os.path.relpath(root, source_dir)\n",
    "                    target_subdir = os.path.join(target_dir, relative_path)\n",
    "                    if not os.path.exists(target_subdir):\n",
    "                        os.makedirs(target_subdir)\n",
    "                    \n",
    "                    target_file_path = os.path.join(target_subdir, f\"{os.path.splitext(file)[0]}.jpg\")\n",
    "                    \n",
    "                    img.save(target_file_path, 'JPEG')\n",
    "\n",
    "def augment_images(directory, num_augmentations=5):\n",
    "    aug = iaa.Sequential([\n",
    "        iaa.Fliplr(0.5),  \n",
    "        iaa.Flipud(0.2), \n",
    "        iaa.Affine(\n",
    "            scale={\"x\": (0.8, 1.2), \"y\": (0.8, 1.2)},  \n",
    "            translate_percent={\"x\": (-0.2, 0.2), \"y\": (-0.2, 0.2)},\n",
    "            rotate=(-45, 45),  \n",
    "            shear=(-16, 16)  \n",
    "        ),\n",
    "        iaa.GaussianBlur(sigma=(0, 3.0)),  \n",
    "        iaa.AdditiveGaussianNoise(scale=(0, 0.05*255)),  \n",
    "        iaa.AdditiveLaplaceNoise(scale=(0, 0.05*255)),  \n",
    "        iaa.AdditivePoissonNoise(lam=(0, 40)),  \n",
    "        iaa.Multiply((0.8, 1.2)),  \n",
    "        iaa.LinearContrast((0.8, 1.2))  \n",
    "    ])\n",
    "\n",
    "    for root, dirs, files in os.walk(directory):\n",
    "        for file in files:\n",
    "            if file.lower().endswith(('jpg', 'jpeg')):\n",
    "                file_path = os.path.join(root, file)\n",
    "                with Image.open(file_path) as img:\n",
    "                    img_array = np.array(img)\n",
    "\n",
    "                    for i in range(num_augmentations):\n",
    "                        # Apply augmentation\n",
    "                        augmented_image = aug(image=img_array)\n",
    "\n",
    "                        # Save the augmented image\n",
    "                        aug_img_pil = Image.fromarray(augmented_image)\n",
    "                        aug_file_path = os.path.join(root, f\"{os.path.splitext(file)[0]}_aug{i}.jpg\")\n",
    "                        aug_img_pil.save(aug_file_path)\n"
   ]
  },
  {
   "cell_type": "code",
   "execution_count": null,
   "id": "2954f6b2-d931-4752-b8ae-15d0d8fb30a6",
   "metadata": {},
   "outputs": [],
   "source": [
    "convert_images_to_jpeg(source_directory, target_directory)\n",
    "augment_images(target_directory)"
   ]
  },
  {
   "cell_type": "markdown",
   "id": "f6912ff3-5389-41f3-8aac-adc166bc1f0f",
   "metadata": {},
   "source": [
    "# 2 - Show how it will augment the images"
   ]
  },
  {
   "cell_type": "code",
   "execution_count": null,
   "id": "2c7244ee-a346-4ba5-8712-576f1b044ce6",
   "metadata": {},
   "outputs": [],
   "source": [
    "import numpy as np\n",
    "import matplotlib.pyplot as plt\n",
    "\n",
    "def display_augmented_images(directory):\n",
    "    count = 0\n",
    "    for root, dirs, files in os.walk(directory):\n",
    "        for dir in dirs[:6]:  # First 6 directories\n",
    "            dir_path = os.path.join(root, dir)\n",
    "            augmented_images = []\n",
    "            for file in os.listdir(dir_path):\n",
    "                if file.lower().endswith(('jpg', 'jpeg')) and 'aug' in file:\n",
    "                    file_path = os.path.join(dir_path, file)\n",
    "                    img = Image.open(file_path)\n",
    "                    augmented_images.append(np.array(img))\n",
    "                if len(augmented_images) == 3:  # First 3 images\n",
    "                    break\n",
    "            \n",
    "            if augmented_images:\n",
    "                fig, axs = plt.subplots(1, 3, figsize=(15, 5))\n",
    "                for ax, img in zip(axs, augmented_images):\n",
    "                    ax.imshow(img)\n",
    "                    ax.axis('off')\n",
    "                plt.show()\n",
    "                count += 1\n",
    "            if count >= 6:  # First 6 directories\n",
    "                return"
   ]
  },
  {
   "cell_type": "code",
   "execution_count": null,
   "id": "5f0efc77-2bcb-447f-a823-1e99dc4006fa",
   "metadata": {},
   "outputs": [],
   "source": [
    "display_augmented_images(target_directory)"
   ]
  },
  {
   "cell_type": "markdown",
   "id": "97ec0263-cf15-44f8-8917-81b2cd714133",
   "metadata": {},
   "source": [
    "# 3 - Resize images"
   ]
  },
  {
   "cell_type": "code",
   "execution_count": 3,
   "id": "7378cb4d-a4fd-4e0f-b999-c45e1ff4352d",
   "metadata": {},
   "outputs": [
    {
     "name": "stderr",
     "output_type": "stream",
     "text": [
      "/opt/homebrew/Caskroom/miniconda/base/envs/tfml/lib/python3.11/site-packages/PIL/Image.py:1056: UserWarning: Palette images with Transparency expressed in bytes should be converted to RGBA images\n",
      "  warnings.warn(\n",
      "/opt/homebrew/Caskroom/miniconda/base/envs/tfml/lib/python3.11/site-packages/PIL/Image.py:1125: UserWarning: Couldn't allocate palette entry for transparency\n",
      "  warnings.warn(\"Couldn't allocate palette entry for transparency\")\n"
     ]
    }
   ],
   "source": [
    "from PIL import Image\n",
    "import os\n",
    "\n",
    "def resize_image(input_path, output_path, size=(225, 225), quality=85):\n",
    "    with Image.open(input_path) as img:\n",
    "        if img.mode in ('RGBA', 'P'):\n",
    "            img = img.convert('RGB')\n",
    "        img = img.resize(size, Image.LANCZOS)\n",
    "        img.save(output_path, optimize=True, quality=quality)\n",
    "\n",
    "def resize_images_in_directory(input_directory, output_directory, size=(225, 225), quality=85):\n",
    "    for root, dirs, files in os.walk(input_directory):\n",
    "        for filename in files:\n",
    "            if filename.endswith(('.png', '.jpg', '.jpeg', '.bmp', '.gif')):\n",
    "                input_path = os.path.join(root, filename)\n",
    "                relative_path = os.path.relpath(root, input_directory)\n",
    "                output_folder = os.path.join(output_directory, relative_path)\n",
    "                if not os.path.exists(output_folder):\n",
    "                    os.makedirs(output_folder)\n",
    "                output_path = os.path.join(output_folder, filename)\n",
    "                resize_image(input_path, output_path, size, quality)\n",
    "\n",
    "input_directory = './pokemon-fusionned'\n",
    "output_directory = './pokemon-augmented-clean-resized-fusionned'\n",
    "resize_images_in_directory(input_directory, output_directory)"
   ]
  },
  {
   "cell_type": "code",
   "execution_count": null,
   "id": "77317928-ebbd-488b-a651-c7b35a42023a",
   "metadata": {},
   "outputs": [],
   "source": []
  }
 ],
 "metadata": {
  "kernelspec": {
   "display_name": "Python 3 (ipykernel)",
   "language": "python",
   "name": "python3"
  },
  "language_info": {
   "codemirror_mode": {
    "name": "ipython",
    "version": 3
   },
   "file_extension": ".py",
   "mimetype": "text/x-python",
   "name": "python",
   "nbconvert_exporter": "python",
   "pygments_lexer": "ipython3",
   "version": "3.11.9"
  }
 },
 "nbformat": 4,
 "nbformat_minor": 5
}

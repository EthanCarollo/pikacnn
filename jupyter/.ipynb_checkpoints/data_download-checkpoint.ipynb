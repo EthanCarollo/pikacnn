{
 "cells": [
  {
   "cell_type": "code",
   "execution_count": 13,
   "id": "bc383536-7007-4ac3-a7a9-0136ac5c461a",
   "metadata": {},
   "outputs": [
    {
     "name": "stdin",
     "output_type": "stream",
     "text": [
      "Enter keyword for image search:  Gengar\n"
     ]
    },
    {
     "name": "stdout",
     "output_type": "stream",
     "text": [
      "Failed to download or process image from https://r.bing.com/rp/f21jlSMmEDN43OaavcdaB-7Phq0.svg: cannot identify image file <_io.BytesIO object at 0x7e4c41dd5b70>\n",
      "Failed to download or process image from https://r.bing.com/rp/fdVZU4ttbw8NDRm6H3I5BW3_vCo.svg: cannot identify image file <_io.BytesIO object at 0x7e4c236aec00>\n",
      "Failed to download or process image from https://r.bing.com/rp/4L4QdyjTv0HYE2Ig2ol9eYoqxg8.svg: cannot identify image file <_io.BytesIO object at 0x7e4c23a35d50>\n",
      "Failed to download or process image from https://r.bing.com/rp/Fsa_OI0AplCnVoXGca8ALOo0S0s.svg: cannot identify image file <_io.BytesIO object at 0x7e4c23a57a10>\n",
      "Failed to download or process image from https://r.bing.com/rp/UYtUYDcn1oZlFG-YfBPz59zejYI.svg: cannot identify image file <_io.BytesIO object at 0x7e4c41dd5b70>\n",
      "Failed to download or process image from https://r.bing.com/rp/KC_nX2_tPPyFvVw1RK20Yu1FyDk.svg: cannot identify image file <_io.BytesIO object at 0x7e4c23a57a10>\n",
      "Failed to download or process image from https://r.bing.com/rp/NnFHhz2jL6yzChtIhaB5IIVKY5k.svg: cannot identify image file <_io.BytesIO object at 0x7e4c23a35d50>\n",
      "Skipping image_1.jpg as it does not meet the size requirement\n",
      "Skipping image_1.jpg as it does not meet the size requirement\n",
      "Skipping image_1.jpg as it does not meet the size requirement\n",
      "Skipping image_1.jpg as it does not meet the size requirement\n",
      "Skipping image_1.jpg as it does not meet the size requirement\n",
      "Skipping image_1.jpg as it does not meet the size requirement\n",
      "Skipping image_1.jpg as it does not meet the size requirement\n",
      "Downloaded /home/eth/Documents/GitHub/tensorflow-gleam-pokemon/jupyter/Gengar/image_1.jpg\n",
      "Downloaded /home/eth/Documents/GitHub/tensorflow-gleam-pokemon/jupyter/Gengar/image_2.jpg\n",
      "Downloaded /home/eth/Documents/GitHub/tensorflow-gleam-pokemon/jupyter/Gengar/image_3.jpg\n",
      "Downloaded /home/eth/Documents/GitHub/tensorflow-gleam-pokemon/jupyter/Gengar/image_4.jpg\n",
      "Downloaded /home/eth/Documents/GitHub/tensorflow-gleam-pokemon/jupyter/Gengar/image_5.jpg\n",
      "Downloaded /home/eth/Documents/GitHub/tensorflow-gleam-pokemon/jupyter/Gengar/image_6.jpg\n",
      "Skipping image_7.jpg as it does not meet the size requirement\n",
      "Skipping image_7.jpg as it does not meet the size requirement\n"
     ]
    }
   ],
   "source": [
    "import requests\n",
    "from bs4 import BeautifulSoup\n",
    "from PIL import Image\n",
    "from io import BytesIO\n",
    "import os\n",
    "import re\n",
    "\n",
    "def sanitize_filename(filename):\n",
    "    \"\"\"Remplace les caractères non valides pour les noms de fichiers.\"\"\"\n",
    "    return re.sub(r'[<>:\"/\\\\|?*]', '', filename)\n",
    "\n",
    "def download_images(keyword, num_images=500):\n",
    "    # Crée un nom de dossier valide pour le mot-clé\n",
    "    sanitized_keyword = sanitize_filename(keyword)\n",
    "    folder_path = os.path.join(os.getcwd(), sanitized_keyword)\n",
    "    \n",
    "    # Crée le dossier s'il n'existe pas\n",
    "    if not os.path.exists(folder_path):\n",
    "        os.makedirs(folder_path)\n",
    "\n",
    "    search_url = f\"https://www.bing.com/images/search?q={keyword}&form=HDRSC2&first=1&tsc=ImageBasicHover\"\n",
    "    headers = {'User-Agent': 'Mozilla/5.0 (Windows NT 10.0; Win64; x64) AppleWebKit/537.36 (KHTML, like Gecko) Chrome/91.0.4472.124 Safari/537.36'}\n",
    "\n",
    "    response = requests.get(search_url, headers=headers)\n",
    "    soup = BeautifulSoup(response.text, 'lxml')\n",
    "\n",
    "    # Trouve toutes les balises d'images\n",
    "    img_tags = soup.find_all('img')\n",
    "\n",
    "    image_count = 0\n",
    "    for img_tag in img_tags:\n",
    "        if image_count >= num_images:\n",
    "            break\n",
    "\n",
    "        img_url = img_tag.get('src')\n",
    "        \n",
    "        # Ignore les URL non valides ou les données\n",
    "        if not img_url or img_url.startswith('data:'):\n",
    "            continue\n",
    "        \n",
    "        # Gère les URL relatives\n",
    "        if not img_url.startswith('http'):\n",
    "            img_url = 'https://www.bing.com' + img_url\n",
    "        \n",
    "        try:\n",
    "            img_response = requests.get(img_url)\n",
    "            img = Image.open(BytesIO(img_response.content))\n",
    "            \n",
    "            if img.width >= 128 and img.height >= 128:\n",
    "                img_path = os.path.join(folder_path, f'image_{image_count+1}.jpg')\n",
    "                img.save(img_path)\n",
    "                print(f'Downloaded {img_path}')\n",
    "                image_count += 1\n",
    "            else:\n",
    "                print(f'Skipping image_{image_count+1}.jpg as it does not meet the size requirement')\n",
    "        except Exception as e:\n",
    "            print(f'Failed to download or process image from {img_url}: {e}')\n",
    "\n",
    "if __name__ == '__main__':\n",
    "    keyword = input(\"Enter keyword for image search: \")\n",
    "    download_images(keyword, 500)\n"
   ]
  },
  {
   "cell_type": "code",
   "execution_count": null,
   "id": "b81c7180-8c78-4c30-892f-a1e0c1a3d1b0",
   "metadata": {},
   "outputs": [],
   "source": []
  }
 ],
 "metadata": {
  "kernelspec": {
   "display_name": "Python 3 (ipykernel)",
   "language": "python",
   "name": "python3"
  },
  "language_info": {
   "codemirror_mode": {
    "name": "ipython",
    "version": 3
   },
   "file_extension": ".py",
   "mimetype": "text/x-python",
   "name": "python",
   "nbconvert_exporter": "python",
   "pygments_lexer": "ipython3",
   "version": "3.11.9"
  }
 },
 "nbformat": 4,
 "nbformat_minor": 5
}

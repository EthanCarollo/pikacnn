{
 "cells": [
  {
   "cell_type": "markdown",
   "id": "2a50e6e0-a330-47a0-95ae-73df89d5dc64",
   "metadata": {},
   "source": [
    "# 1 - Clean images & augment them"
   ]
  },
  {
   "cell_type": "code",
   "execution_count": 6,
   "id": "1d52bfe0-daab-4188-8c06-c43f6822a797",
   "metadata": {},
   "outputs": [],
   "source": [
    "import os\n",
    "from PIL import Image\n",
    "import imgaug.augmenters as iaa\n",
    "import numpy as np\n",
    "from tqdm import tqdm  # Importation de tqdm pour la barre de progression\n",
    "from multiprocessing import Pool, cpu_count\n",
    "\n",
    "source_directory = './pokemon'\n",
    "target_directory = './pokemon-augmented'\n",
    "\n",
    "def convert_images_to_jpeg(source_dir, target_dir):\n",
    "    if not os.path.exists(target_dir):\n",
    "        os.makedirs(target_dir)\n",
    "\n",
    "    for root, dirs, files in os.walk(source_dir):\n",
    "        current_dir_name = os.path.basename(root)\n",
    "        for file in tqdm(files, desc=f\"Conversion ({current_dir_name})\", unit=\"file\"):\n",
    "            if file.lower().endswith(('png', 'jpg', 'jpeg', 'bmp', 'gif', 'tiff')):\n",
    "                file_path = os.path.join(root, file)\n",
    "                with Image.open(file_path) as img:\n",
    "                    img = img.convert('RGB')\n",
    "                    relative_path = os.path.relpath(root, source_dir)\n",
    "                    target_subdir = os.path.join(target_dir, relative_path)\n",
    "                    if not os.path.exists(target_subdir):\n",
    "                        os.makedirs(target_subdir)\n",
    "                    \n",
    "                    target_file_path = os.path.join(target_subdir, f\"{os.path.splitext(file)[0]}.jpg\")\n",
    "                    img.save(target_file_path, 'JPEG')\n",
    "\n",
    "def augment_image_task(args):\n",
    "    \"\"\"Wrapper function to handle arguments for multiprocessing.\"\"\"\n",
    "    file_path, aug, num_augmentations = args\n",
    "    with Image.open(file_path) as img:\n",
    "        img_array = np.array(img)\n",
    "\n",
    "        augmented_images = []\n",
    "        for i in range(num_augmentations):\n",
    "            augmented_image = aug(image=img_array)\n",
    "            augmented_images.append((Image.fromarray(augmented_image), f\"{os.path.splitext(file_path)[0]}_aug{i}.jpg\"))\n",
    "\n",
    "        return augmented_images\n",
    "\n",
    "def augment_images(directory, num_augmentations=3):\n",
    "    aug = iaa.Sequential([\n",
    "        iaa.Fliplr(0.3),  \n",
    "        iaa.Flipud(0.1), \n",
    "        iaa.Affine(\n",
    "            scale={\"x\": (0.8, 1.2), \"y\": (0.8, 1.2)},  \n",
    "            translate_percent={\"x\": (-0.2, 0.2), \"y\": (-0.2, 0.2)},\n",
    "            rotate=(-25, 25),  \n",
    "            shear=(-8, 8)  \n",
    "        ),\n",
    "        iaa.GaussianBlur(sigma=(0, 1.0)),  \n",
    "        iaa.AdditiveGaussianNoise(scale=(0, 0.05*255)),  \n",
    "        iaa.AdditiveLaplaceNoise(scale=(0, 0.02*255)),  \n",
    "        iaa.AdditivePoissonNoise(lam=(0, 40)),  \n",
    "        iaa.Multiply((0.8, 1.2)),  \n",
    "        iaa.LinearContrast((0.8, 1.2))  \n",
    "    ])\n",
    "\n",
    "    tasks = []\n",
    "    for root, dirs, files in os.walk(directory):\n",
    "        current_dir_name = os.path.basename(root)\n",
    "        for file in files:\n",
    "            if file.lower().endswith(('jpg', 'jpeg')):\n",
    "                file_path = os.path.join(root, file)\n",
    "                tasks.append((file_path, aug, num_augmentations))\n",
    "\n",
    "    # Utiliser multiprocessing pour traiter les images en parallèle\n",
    "    with Pool(processes=cpu_count()) as pool:\n",
    "        for augmented_images in tqdm(pool.imap_unordered(augment_image_task, tasks), total=len(tasks), desc=\"Augmentation images\", unit=\"file\"):\n",
    "            for aug_img_pil, aug_file_path in augmented_images:\n",
    "                aug_img_pil.save(aug_file_path)"
   ]
  },
  {
   "cell_type": "code",
   "execution_count": null,
   "id": "2954f6b2-d931-4752-b8ae-15d0d8fb30a6",
   "metadata": {},
   "outputs": [],
   "source": [
    "convert_images_to_jpeg(source_directory, target_directory)"
   ]
  },
  {
   "cell_type": "code",
   "execution_count": 7,
   "id": "0bd474cc-bbe3-4148-9ae5-4b577beb90b6",
   "metadata": {},
   "outputs": [
    {
     "name": "stderr",
     "output_type": "stream",
     "text": [
      "Augmentation images: 100%|███████████████████████████████████| 17958/17958 [00:54<00:00, 330.16file/s]\n"
     ]
    }
   ],
   "source": [
    "augment_images('../data/pokemon-128aug', 3)"
   ]
  },
  {
   "cell_type": "markdown",
   "id": "f6912ff3-5389-41f3-8aac-adc166bc1f0f",
   "metadata": {},
   "source": [
    "# 2 - Show how it augmented the images"
   ]
  },
  {
   "cell_type": "code",
   "execution_count": null,
   "id": "2c7244ee-a346-4ba5-8712-576f1b044ce6",
   "metadata": {},
   "outputs": [],
   "source": [
    "import numpy as np\n",
    "import matplotlib.pyplot as plt\n",
    "\n",
    "def display_augmented_images(directory):\n",
    "    count = 0\n",
    "    for root, dirs, files in os.walk(directory):\n",
    "        for dir in dirs[:6]: \n",
    "            dir_path = os.path.join(root, dir)\n",
    "            augmented_images = []\n",
    "            for file in os.listdir(dir_path):\n",
    "                if file.lower().endswith(('jpg', 'jpeg')) and 'aug' in file:\n",
    "                    file_path = os.path.join(dir_path, file)\n",
    "                    img = Image.open(file_path)\n",
    "                    augmented_images.append(np.array(img))\n",
    "                if len(augmented_images) == 3: \n",
    "                    break\n",
    "            \n",
    "            if augmented_images:\n",
    "                fig, axs = plt.subplots(1, 3, figsize=(15, 5))\n",
    "                for ax, img in zip(axs, augmented_images):\n",
    "                    ax.imshow(img)\n",
    "                    ax.axis('off')\n",
    "                plt.show()\n",
    "                count += 1\n",
    "            if count >= 6:\n",
    "                return"
   ]
  },
  {
   "cell_type": "code",
   "execution_count": null,
   "id": "5f0efc77-2bcb-447f-a823-1e99dc4006fa",
   "metadata": {},
   "outputs": [],
   "source": [
    "display_augmented_images(target_directory)"
   ]
  },
  {
   "cell_type": "markdown",
   "id": "97ec0263-cf15-44f8-8917-81b2cd714133",
   "metadata": {},
   "source": [
    "# 3 - Resize images"
   ]
  },
  {
   "cell_type": "code",
   "execution_count": 5,
   "id": "7378cb4d-a4fd-4e0f-b999-c45e1ff4352d",
   "metadata": {},
   "outputs": [
    {
     "name": "stderr",
     "output_type": "stream",
     "text": [
      "Resizing images:   8%|███▏                                    | 1442/18039 [00:02<00:24, 664.88file/s]"
     ]
    },
    {
     "name": "stdout",
     "output_type": "stream",
     "text": [
      "../data/pokemon/MrMime/cleaned_85c85d77f723454e838c772ac752c4db.jpg\n"
     ]
    },
    {
     "name": "stderr",
     "output_type": "stream",
     "text": [
      "Resizing images:   9%|███▌                                    | 1596/18039 [00:02<00:30, 546.92file/s]/home/eth/miniconda3/envs/tensorflow/lib/python3.11/site-packages/PIL/Image.py:1056: UserWarning: Palette images with Transparency expressed in bytes should be converted to RGBA images\n",
      "  warnings.warn(\n",
      "Resizing images:  10%|████                                    | 1821/18039 [00:03<00:25, 631.46file/s]/home/eth/miniconda3/envs/tensorflow/lib/python3.11/site-packages/PIL/Image.py:1056: UserWarning: Palette images with Transparency expressed in bytes should be converted to RGBA images\n",
      "  warnings.warn(\n",
      "Resizing images:  16%|██████▎                                 | 2866/18039 [00:05<00:21, 704.39file/s]/home/eth/miniconda3/envs/tensorflow/lib/python3.11/site-packages/PIL/Image.py:1056: UserWarning: Palette images with Transparency expressed in bytes should be converted to RGBA images\n",
      "  warnings.warn(\n",
      "Resizing images:  17%|██████▋                                 | 3036/18039 [00:05<00:21, 696.05file/s]/home/eth/miniconda3/envs/tensorflow/lib/python3.11/site-packages/PIL/Image.py:1056: UserWarning: Palette images with Transparency expressed in bytes should be converted to RGBA images\n",
      "  warnings.warn(\n",
      "Resizing images:  18%|███████▏                                | 3222/18039 [00:05<00:20, 708.14file/s]/home/eth/miniconda3/envs/tensorflow/lib/python3.11/site-packages/PIL/Image.py:1056: UserWarning: Palette images with Transparency expressed in bytes should be converted to RGBA images\n",
      "  warnings.warn(\n",
      "Resizing images:  18%|███████▎                                | 3297/18039 [00:05<00:25, 589.14file/s]/home/eth/miniconda3/envs/tensorflow/lib/python3.11/site-packages/PIL/Image.py:1056: UserWarning: Palette images with Transparency expressed in bytes should be converted to RGBA images\n",
      "  warnings.warn(\n",
      "Resizing images:  22%|████████▋                               | 3907/18039 [00:06<00:18, 746.97file/s]/home/eth/miniconda3/envs/tensorflow/lib/python3.11/site-packages/PIL/Image.py:1056: UserWarning: Palette images with Transparency expressed in bytes should be converted to RGBA images\n",
      "  warnings.warn(\n",
      "Resizing images:  38%|███████████████▏                        | 6824/18039 [00:11<00:17, 650.79file/s]/home/eth/miniconda3/envs/tensorflow/lib/python3.11/site-packages/PIL/Image.py:1056: UserWarning: Palette images with Transparency expressed in bytes should be converted to RGBA images\n",
      "  warnings.warn(\n",
      "Resizing images:  46%|██████████████████▎                     | 8248/18039 [00:13<00:15, 627.15file/s]/home/eth/miniconda3/envs/tensorflow/lib/python3.11/site-packages/PIL/Image.py:1056: UserWarning: Palette images with Transparency expressed in bytes should be converted to RGBA images\n",
      "  warnings.warn(\n",
      "Resizing images:  54%|█████████████████████▋                  | 9801/18039 [00:16<00:29, 282.48file/s]/home/eth/miniconda3/envs/tensorflow/lib/python3.11/site-packages/PIL/Image.py:1056: UserWarning: Palette images with Transparency expressed in bytes should be converted to RGBA images\n",
      "  warnings.warn(\n",
      "Resizing images:  56%|█████████████████████▉                 | 10137/18039 [00:17<00:12, 628.05file/s]/home/eth/miniconda3/envs/tensorflow/lib/python3.11/site-packages/PIL/Image.py:1056: UserWarning: Palette images with Transparency expressed in bytes should be converted to RGBA images\n",
      "  warnings.warn(\n",
      "Resizing images: 100%|███████████████████████████████████████| 18039/18039 [00:28<00:00, 640.04file/s]\n"
     ]
    }
   ],
   "source": [
    "from PIL import Image\n",
    "import os\n",
    "from tqdm import tqdm  # Importation de tqdm pour la barre de progression\n",
    "from multiprocessing import Pool, cpu_count\n",
    "\n",
    "def ensure_jpg_extension(output_path):\n",
    "    root, ext = os.path.splitext(output_path)\n",
    "    if ext.lower() != '.jpg':\n",
    "        output_path = root + '.jpg'\n",
    "    return output_path\n",
    "\n",
    "def resize_image_task(args):\n",
    "    \"\"\"Wrapper function to handle arguments for multiprocessing.\"\"\"\n",
    "    input_path, output_path, size, quality = args\n",
    "    with Image.open(input_path) as img:\n",
    "        try :\n",
    "            img = img.convert('RGB')\n",
    "            img = img.resize(size, Image.LANCZOS)\n",
    "            img.save(ensure_jpg_extension(output_path), optimize=True, quality=quality)\n",
    "        except :\n",
    "            print(input_path)\n",
    "\n",
    "def resize_images_in_directory(input_directory, output_directory, size=(224, 224), quality=85):\n",
    "    tasks = []\n",
    "    for root, dirs, files in os.walk(input_directory):\n",
    "        current_dir_name = os.path.basename(root)  # Obtenir le nom du répertoire courant\n",
    "        for filename in files:\n",
    "            if filename.endswith(('.png', '.jpg', '.jpeg', '.bmp', '.gif')):\n",
    "                input_path = os.path.join(root, filename)\n",
    "                relative_path = os.path.relpath(root, input_directory)\n",
    "                output_folder = os.path.join(output_directory, relative_path)\n",
    "                if not os.path.exists(output_folder):\n",
    "                    os.makedirs(output_folder)\n",
    "                output_path = os.path.join(output_folder, filename)\n",
    "                tasks.append((input_path, output_path, size, quality))\n",
    "    \n",
    "    # Utiliser multiprocessing pour traiter les images en parallèle\n",
    "    with Pool(processes=cpu_count()) as pool:\n",
    "        for _ in tqdm(pool.imap_unordered(resize_image_task, tasks), total=len(tasks), desc=\"Resizing images\", unit=\"file\"):\n",
    "            pass\n",
    "\n",
    "input_directory = '../data/pokemon'\n",
    "output_directory = '../data/pokemon-128aug'\n",
    "resize_images_in_directory(input_directory, output_directory, (128, 128), quality=100)\n"
   ]
  },
  {
   "cell_type": "code",
   "execution_count": null,
   "id": "77317928-ebbd-488b-a651-c7b35a42023a",
   "metadata": {},
   "outputs": [],
   "source": []
  },
  {
   "cell_type": "code",
   "execution_count": null,
   "id": "1085ae93-b2a6-4a2b-965b-8af8160e0ae4",
   "metadata": {},
   "outputs": [],
   "source": []
  }
 ],
 "metadata": {
  "kernelspec": {
   "display_name": "Python 3 (ipykernel)",
   "language": "python",
   "name": "python3"
  },
  "language_info": {
   "codemirror_mode": {
    "name": "ipython",
    "version": 3
   },
   "file_extension": ".py",
   "mimetype": "text/x-python",
   "name": "python",
   "nbconvert_exporter": "python",
   "pygments_lexer": "ipython3",
   "version": "3.11.9"
  }
 },
 "nbformat": 4,
 "nbformat_minor": 5
}

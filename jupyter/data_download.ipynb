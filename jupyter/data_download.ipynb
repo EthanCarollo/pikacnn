{
 "cells": [
  {
   "cell_type": "code",
   "execution_count": 2,
   "id": "bc383536-7007-4ac3-a7a9-0136ac5c461a",
   "metadata": {},
   "outputs": [
    {
     "name": "stdin",
     "output_type": "stream",
     "text": [
      "Enter your Pixabay API key:  45356788-af3463c7636d135636c3bec77\n",
      "Enter keyword for image search:  Pikachu\n"
     ]
    },
    {
     "name": "stdout",
     "output_type": "stream",
     "text": [
      "Downloaded /home/eth/Documents/GitHub/tensorflow-gleam-pokemon/jupyter/Pikachu/image_1.jpg\n",
      "Downloaded /home/eth/Documents/GitHub/tensorflow-gleam-pokemon/jupyter/Pikachu/image_2.jpg\n",
      "Downloaded /home/eth/Documents/GitHub/tensorflow-gleam-pokemon/jupyter/Pikachu/image_3.jpg\n",
      "Downloaded /home/eth/Documents/GitHub/tensorflow-gleam-pokemon/jupyter/Pikachu/image_4.jpg\n",
      "Downloaded /home/eth/Documents/GitHub/tensorflow-gleam-pokemon/jupyter/Pikachu/image_5.jpg\n",
      "Downloaded /home/eth/Documents/GitHub/tensorflow-gleam-pokemon/jupyter/Pikachu/image_6.jpg\n",
      "Downloaded /home/eth/Documents/GitHub/tensorflow-gleam-pokemon/jupyter/Pikachu/image_7.jpg\n",
      "Downloaded /home/eth/Documents/GitHub/tensorflow-gleam-pokemon/jupyter/Pikachu/image_8.jpg\n",
      "Downloaded /home/eth/Documents/GitHub/tensorflow-gleam-pokemon/jupyter/Pikachu/image_9.jpg\n",
      "Downloaded /home/eth/Documents/GitHub/tensorflow-gleam-pokemon/jupyter/Pikachu/image_10.jpg\n"
     ]
    }
   ],
   "source": [
    "import requests\n",
    "from PIL import Image\n",
    "from io import BytesIO\n",
    "import os\n",
    "import re\n",
    "\n",
    "def sanitize_filename(filename):\n",
    "    \"\"\"Remplace les caractères non valides pour les noms de fichiers.\"\"\"\n",
    "    return re.sub(r'[<>:\"/\\\\|?*]', '', filename)\n",
    "\n",
    "def download_images(api_key, keyword, num_images=10):\n",
    "    # Crée un nom de dossier valide pour le mot-clé\n",
    "    sanitized_keyword = sanitize_filename(keyword)\n",
    "    folder_path = os.path.join(os.getcwd(), sanitized_keyword)\n",
    "    \n",
    "    # Crée le dossier s'il n'existe pas\n",
    "    if not os.path.exists(folder_path):\n",
    "        os.makedirs(folder_path)\n",
    "\n",
    "    search_url = 'https://pixabay.com/api/'\n",
    "    headers = {\n",
    "        'User-Agent': 'Mozilla/5.0 (Windows NT 10.0; Win64; x64) AppleWebKit/537.36 (KHTML, like Gecko) Chrome/91.0.4472.124 Safari/537.36'\n",
    "    }\n",
    "\n",
    "    params = {\n",
    "        'key': api_key,\n",
    "        'q': keyword,\n",
    "        'image_type': 'photo',\n",
    "        'per_page': num_images  # Nombre d'images à récupérer\n",
    "    }\n",
    "\n",
    "    response = requests.get(search_url, headers=headers, params=params)\n",
    "    data = response.json()\n",
    "\n",
    "    # Assure que la réponse contient des images\n",
    "    if 'hits' not in data or not data['hits']:\n",
    "        print(\"No images found.\")\n",
    "        return\n",
    "\n",
    "    image_count = 0\n",
    "\n",
    "    for hit in data['hits']:\n",
    "        if image_count >= num_images:\n",
    "            break\n",
    "\n",
    "        img_url = hit['largeImageURL']\n",
    "        \n",
    "        try:\n",
    "            img_response = requests.get(img_url)\n",
    "            img = Image.open(BytesIO(img_response.content))\n",
    "            \n",
    "            if img.width >= 128 and img.height >= 128:\n",
    "                img_path = os.path.join(folder_path, f'image_{image_count+1}.jpg')\n",
    "                img.save(img_path)\n",
    "                print(f'Downloaded {img_path}')\n",
    "                image_count += 1\n",
    "            else:\n",
    "                print(f'Skipping image_{image_count+1}.jpg as it does not meet the size requirement')\n",
    "        except Exception as e:\n",
    "            print(f'Failed to download or process image from {img_url}: {e}')\n",
    "\n",
    "if __name__ == '__main__':\n",
    "    api_key = input(\"Enter your Pixabay API key: \")\n",
    "    keyword = input(\"Enter keyword for image search: \")\n",
    "    download_images(api_key, keyword, 5000)\n"
   ]
  },
  {
   "cell_type": "code",
   "execution_count": null,
   "id": "b81c7180-8c78-4c30-892f-a1e0c1a3d1b0",
   "metadata": {},
   "outputs": [],
   "source": []
  }
 ],
 "metadata": {
  "kernelspec": {
   "display_name": "Python 3 (ipykernel)",
   "language": "python",
   "name": "python3"
  },
  "language_info": {
   "codemirror_mode": {
    "name": "ipython",
    "version": 3
   },
   "file_extension": ".py",
   "mimetype": "text/x-python",
   "name": "python",
   "nbconvert_exporter": "python",
   "pygments_lexer": "ipython3",
   "version": "3.11.9"
  }
 },
 "nbformat": 4,
 "nbformat_minor": 5
}
